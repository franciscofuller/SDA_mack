{
  "nbformat": 4,
  "nbformat_minor": 0,
  "metadata": {
    "colab": {
      "provenance": []
    },
    "kernelspec": {
      "name": "python3",
      "display_name": "Python 3"
    },
    "language_info": {
      "name": "python"
    }
  },
  "cells": [
    {
      "cell_type": "code",
      "execution_count": null,
      "metadata": {
        "id": "kr-Juepva9LK"
      },
      "outputs": [],
      "source": [
        "## some solar data now!\n",
        "\n",
        "## file format: FITS 'Flexible Image Transport System'\n",
        "## https://fits.gsfc.nasa.gov/\n",
        "\n",
        "## url for data file\n",
        "\n",
        "url = 'https://lasp.colorado.edu/eve/data_access/eve_data/products/level2'\n",
        "\n",
        "year = '2011'\n",
        "doy = '046'\n",
        "FITSfile = 'EVS_L2_2011046_00_007_02.fit.gz'\n",
        "sep = '/'\n",
        "\n",
        "url_file = sep.join((url,year,doy,FITSfile))\n",
        "\n",
        "print(url_file)"
      ]
    },
    {
      "cell_type": "code",
      "source": [
        "## read EVE spectra\n",
        "\n",
        "def read_eve(FITSfile):\n",
        "  from astropy.io import fits\n",
        "  ## open FITS file\n",
        "  hdu = fits.open(FITSfile)\n",
        "  ## date\n",
        "  dat = hdu[3].data['YYYYDOY']\n",
        "  ## SOD = seconds of day (tempo)\n",
        "  sod = hdu[3].data['SOD']\n",
        "  ## array wavelength (comprimento de onda)\n",
        "  wav = hdu[1].data['WAVELENGTH']\n",
        "  ## array spectra (irradiance W/m2/nm)\n",
        "  irr = hdu[3].data['IRRADIANCE'] # time,irr (360,5200)\n",
        "  hdu.close()\n",
        "  return wav,sod,irr"
      ],
      "metadata": {
        "id": "qzdrUCMya-nr"
      },
      "execution_count": null,
      "outputs": []
    }
  ]
}