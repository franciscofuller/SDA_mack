{
  "nbformat": 4,
  "nbformat_minor": 0,
  "metadata": {
    "colab": {
      "provenance": []
    },
    "kernelspec": {
      "name": "python3",
      "display_name": "Python 3"
    },
    "language_info": {
      "name": "python"
    }
  },
  "cells": [
    {
      "cell_type": "code",
      "execution_count": null,
      "metadata": {
        "id": "sY4zQ7kWYUN7"
      },
      "outputs": [],
      "source": [
        "## https://www.sidc.be/SILSO/DATA/\n",
        "## 13-month smoothed monthly total sunspot number [1/1749 - now]\n",
        "# - [1-4] Year\n",
        "# - [6-7] Month\n",
        "# - [9-16] Decimal date\n",
        "# - [19-23] Smoothed total sunspot number\n",
        "# - [25-29] Standard deviation\n",
        "# - [32-35] Number of observations\n",
        "# - [37] Definitive/provisional indicator\n",
        "\n",
        "import pandas as pd\n",
        "\n",
        "url = 'https://www.sidc.be/SILSO/DATA/SN_ms_tot_V2.0.txt'\n",
        "\n",
        "colspecs = [(0,3),(5,6),(8,15),(18,22),(24,28),(31,34)]\n",
        "data = pd.read_fwf(url,colspecs=colspecs)\n",
        "data.columns = [\"year\", \"month\", \"date\", \"SSN\", \"sdt\", \"no_obs\"]"
      ]
    },
    {
      "cell_type": "code",
      "source": [],
      "metadata": {
        "id": "Ina3mcTVYZj7"
      },
      "execution_count": null,
      "outputs": []
    }
  ]
}